{
 "cells": [
  {
   "cell_type": "code",
   "execution_count": 1,
   "id": "39ad2323",
   "metadata": {},
   "outputs": [],
   "source": [
    "import requests, json\n",
    "\n",
    "url = \"http://13.124.243.8:8000/predict/\"\n",
    "data = {'text' : \"퇴근하기\"}\n",
    "r = requests.post(url, data = data)"
   ]
  },
  {
   "cell_type": "code",
   "execution_count": 2,
   "id": "abcf2c14",
   "metadata": {},
   "outputs": [
    {
     "data": {
      "text/plain": [
       "'<html>\\n  <head>\\n    <title>Internal Server Error</title>\\n  </head>\\n  <body>\\n    <h1><p>Internal Server Error</p></h1>\\n    \\n  </body>\\n</html>\\n'"
      ]
     },
     "execution_count": 2,
     "metadata": {},
     "output_type": "execute_result"
    }
   ],
   "source": [
    "r.text"
   ]
  },
  {
   "cell_type": "code",
   "execution_count": null,
   "id": "7fa70cc4",
   "metadata": {},
   "outputs": [],
   "source": []
  }
 ],
 "metadata": {
  "kernelspec": {
   "display_name": "Python 3 (ipykernel)",
   "language": "python",
   "name": "python3"
  },
  "language_info": {
   "codemirror_mode": {
    "name": "ipython",
    "version": 3
   },
   "file_extension": ".py",
   "mimetype": "text/x-python",
   "name": "python",
   "nbconvert_exporter": "python",
   "pygments_lexer": "ipython3",
   "version": "3.8.12"
  }
 },
 "nbformat": 4,
 "nbformat_minor": 5
}
