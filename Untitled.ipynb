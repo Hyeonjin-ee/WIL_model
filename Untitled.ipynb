{
 "cells": [
  {
   "cell_type": "code",
   "execution_count": 8,
   "id": "ae3a9b5d",
   "metadata": {},
   "outputs": [],
   "source": [
    "import boto3\n",
    "s3 = boto3.client('s3')\n",
    "res = s3.upload_file('./data/dataset_0919.txt', 'wilcrawling', 'dataset-0920.txt')"
   ]
  },
  {
   "cell_type": "code",
   "execution_count": 10,
   "id": "10fcdaad",
   "metadata": {},
   "outputs": [],
   "source": [
    "import pandas as pd\n",
    "data = pd.read_csv(\"./data/train.txt\", delimiter='\\t')"
   ]
  },
  {
   "cell_type": "code",
   "execution_count": 11,
   "id": "66c5beaf",
   "metadata": {},
   "outputs": [
    {
     "data": {
      "text/html": [
       "<div>\n",
       "<style scoped>\n",
       "    .dataframe tbody tr th:only-of-type {\n",
       "        vertical-align: middle;\n",
       "    }\n",
       "\n",
       "    .dataframe tbody tr th {\n",
       "        vertical-align: top;\n",
       "    }\n",
       "\n",
       "    .dataframe thead th {\n",
       "        text-align: right;\n",
       "    }\n",
       "</style>\n",
       "<table border=\"1\" class=\"dataframe\">\n",
       "  <thead>\n",
       "    <tr style=\"text-align: right;\">\n",
       "      <th></th>\n",
       "      <th>label</th>\n",
       "      <th>document</th>\n",
       "    </tr>\n",
       "  </thead>\n",
       "  <tbody>\n",
       "    <tr>\n",
       "      <th>0</th>\n",
       "      <td>1</td>\n",
       "      <td>지금봐도 대단ㅎㅎ</td>\n",
       "    </tr>\n",
       "    <tr>\n",
       "      <th>1</th>\n",
       "      <td>0</td>\n",
       "      <td>장인 정신으로만 똘똘뭉치면 한국은 살만한가?</td>\n",
       "    </tr>\n",
       "    <tr>\n",
       "      <th>2</th>\n",
       "      <td>1</td>\n",
       "      <td>그냥 옛추억에 빠진다..진짜 빠진다...그러나 배신은 어디나 따른다 우리또한 그랬다...</td>\n",
       "    </tr>\n",
       "    <tr>\n",
       "      <th>3</th>\n",
       "      <td>1</td>\n",
       "      <td>레옹 안본자 평가하지마라.</td>\n",
       "    </tr>\n",
       "    <tr>\n",
       "      <th>4</th>\n",
       "      <td>0</td>\n",
       "      <td>철학적인건 그렇다치고 일단 너무 지루하다.</td>\n",
       "    </tr>\n",
       "    <tr>\n",
       "      <th>...</th>\n",
       "      <td>...</td>\n",
       "      <td>...</td>\n",
       "    </tr>\n",
       "    <tr>\n",
       "      <th>2237</th>\n",
       "      <td>1</td>\n",
       "      <td>소박,담백하고 순수한 영화!그들의 삶은 정말 아름답지만, 맑은 얼굴을 한 비구니 스...</td>\n",
       "    </tr>\n",
       "    <tr>\n",
       "      <th>2238</th>\n",
       "      <td>0</td>\n",
       "      <td>지루</td>\n",
       "    </tr>\n",
       "    <tr>\n",
       "      <th>2239</th>\n",
       "      <td>1</td>\n",
       "      <td>삶에 엄청난 활력소가 된 영화</td>\n",
       "    </tr>\n",
       "    <tr>\n",
       "      <th>2240</th>\n",
       "      <td>1</td>\n",
       "      <td>상큼한 매력이 돋보이는 배우들의 출연으로 매우 재밌는 드라마였다.</td>\n",
       "    </tr>\n",
       "    <tr>\n",
       "      <th>2241</th>\n",
       "      <td>0</td>\n",
       "      <td>볼만했는데 9점급은 아님. 그냥 5~6점정도?</td>\n",
       "    </tr>\n",
       "  </tbody>\n",
       "</table>\n",
       "<p>2242 rows × 2 columns</p>\n",
       "</div>"
      ],
      "text/plain": [
       "      label                                           document\n",
       "0         1                                          지금봐도 대단ㅎㅎ\n",
       "1         0                           장인 정신으로만 똘똘뭉치면 한국은 살만한가?\n",
       "2         1  그냥 옛추억에 빠진다..진짜 빠진다...그러나 배신은 어디나 따른다 우리또한 그랬다...\n",
       "3         1                                     레옹 안본자 평가하지마라.\n",
       "4         0                            철학적인건 그렇다치고 일단 너무 지루하다.\n",
       "...     ...                                                ...\n",
       "2237      1  소박,담백하고 순수한 영화!그들의 삶은 정말 아름답지만, 맑은 얼굴을 한 비구니 스...\n",
       "2238      0                                                 지루\n",
       "2239      1                                   삶에 엄청난 활력소가 된 영화\n",
       "2240      1               상큼한 매력이 돋보이는 배우들의 출연으로 매우 재밌는 드라마였다.\n",
       "2241      0                          볼만했는데 9점급은 아님. 그냥 5~6점정도?\n",
       "\n",
       "[2242 rows x 2 columns]"
      ]
     },
     "execution_count": 11,
     "metadata": {},
     "output_type": "execute_result"
    }
   ],
   "source": [
    "data"
   ]
  },
  {
   "cell_type": "code",
   "execution_count": null,
   "id": "96cc2b64",
   "metadata": {},
   "outputs": [],
   "source": []
  }
 ],
 "metadata": {
  "kernelspec": {
   "display_name": "Python 3 (ipykernel)",
   "language": "python",
   "name": "python3"
  },
  "language_info": {
   "codemirror_mode": {
    "name": "ipython",
    "version": 3
   },
   "file_extension": ".py",
   "mimetype": "text/x-python",
   "name": "python",
   "nbconvert_exporter": "python",
   "pygments_lexer": "ipython3",
   "version": "3.8.12"
  }
 },
 "nbformat": 4,
 "nbformat_minor": 5
}
