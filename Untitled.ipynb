{
 "cells": [
  {
   "cell_type": "code",
   "execution_count": 8,
   "id": "441b2867",
   "metadata": {},
   "outputs": [],
   "source": [
    "import boto3\n",
    "s3 = boto3.client('s3')\n",
    "res = s3.upload_file('./data/dataset_0919.txt', 'wilcrawling', 'dataset-0920.txt')"
   ]
  },
  {
   "cell_type": "code",
   "execution_count": 8,
   "id": "2f83cc24",
   "metadata": {},
   "outputs": [],
   "source": [
    "import pandas as pd\n",
    "data = pd.read_csv(\"./data/train.txt\", delimiter='\\t')"
   ]
  },
  {
   "cell_type": "code",
   "execution_count": 9,
   "id": "80463f65",
   "metadata": {},
   "outputs": [
    {
     "data": {
      "text/html": [
       "<div>\n",
       "<style scoped>\n",
       "    .dataframe tbody tr th:only-of-type {\n",
       "        vertical-align: middle;\n",
       "    }\n",
       "\n",
       "    .dataframe tbody tr th {\n",
       "        vertical-align: top;\n",
       "    }\n",
       "\n",
       "    .dataframe thead th {\n",
       "        text-align: right;\n",
       "    }\n",
       "</style>\n",
       "<table border=\"1\" class=\"dataframe\">\n",
       "  <thead>\n",
       "    <tr style=\"text-align: right;\">\n",
       "      <th></th>\n",
       "      <th>label</th>\n",
       "      <th>document</th>\n",
       "    </tr>\n",
       "  </thead>\n",
       "  <tbody>\n",
       "    <tr>\n",
       "      <th>0</th>\n",
       "      <td>1</td>\n",
       "      <td>지금봐도대단</td>\n",
       "    </tr>\n",
       "    <tr>\n",
       "      <th>1</th>\n",
       "      <td>0</td>\n",
       "      <td>장인정신으로만똘똘뭉치면한국은살만한가</td>\n",
       "    </tr>\n",
       "    <tr>\n",
       "      <th>2</th>\n",
       "      <td>1</td>\n",
       "      <td>그냥옛추억에빠진다진짜빠진다그러나배신은어디나따른다우리또한그랬다우리지금생각하니웃기군지금...</td>\n",
       "    </tr>\n",
       "    <tr>\n",
       "      <th>3</th>\n",
       "      <td>1</td>\n",
       "      <td>레옹안본자평가하지마라</td>\n",
       "    </tr>\n",
       "    <tr>\n",
       "      <th>4</th>\n",
       "      <td>0</td>\n",
       "      <td>철학적인건그렇다치고일단너무지루하다</td>\n",
       "    </tr>\n",
       "    <tr>\n",
       "      <th>...</th>\n",
       "      <td>...</td>\n",
       "      <td>...</td>\n",
       "    </tr>\n",
       "    <tr>\n",
       "      <th>2237</th>\n",
       "      <td>1</td>\n",
       "      <td>소박담백하고순수한영화그들의삶은정말아름답지만맑은얼굴을한비구니스님들에게서마음깊은곳의슬픔...</td>\n",
       "    </tr>\n",
       "    <tr>\n",
       "      <th>2238</th>\n",
       "      <td>0</td>\n",
       "      <td>지루</td>\n",
       "    </tr>\n",
       "    <tr>\n",
       "      <th>2239</th>\n",
       "      <td>1</td>\n",
       "      <td>삶에엄청난활력소가된영화</td>\n",
       "    </tr>\n",
       "    <tr>\n",
       "      <th>2240</th>\n",
       "      <td>1</td>\n",
       "      <td>상큼한매력이돋보이는배우들의출연으로매우재밌는드라마였다</td>\n",
       "    </tr>\n",
       "    <tr>\n",
       "      <th>2241</th>\n",
       "      <td>0</td>\n",
       "      <td>볼만했는데점급은아님그냥점정도</td>\n",
       "    </tr>\n",
       "  </tbody>\n",
       "</table>\n",
       "<p>2242 rows × 2 columns</p>\n",
       "</div>"
      ],
      "text/plain": [
       "      label                                           document\n",
       "0         1                                             지금봐도대단\n",
       "1         0                                장인정신으로만똘똘뭉치면한국은살만한가\n",
       "2         1  그냥옛추억에빠진다진짜빠진다그러나배신은어디나따른다우리또한그랬다우리지금생각하니웃기군지금...\n",
       "3         1                                        레옹안본자평가하지마라\n",
       "4         0                                 철학적인건그렇다치고일단너무지루하다\n",
       "...     ...                                                ...\n",
       "2237      1  소박담백하고순수한영화그들의삶은정말아름답지만맑은얼굴을한비구니스님들에게서마음깊은곳의슬픔...\n",
       "2238      0                                                 지루\n",
       "2239      1                                       삶에엄청난활력소가된영화\n",
       "2240      1                       상큼한매력이돋보이는배우들의출연으로매우재밌는드라마였다\n",
       "2241      0                                    볼만했는데점급은아님그냥점정도\n",
       "\n",
       "[2242 rows x 2 columns]"
      ]
     },
     "execution_count": 9,
     "metadata": {},
     "output_type": "execute_result"
    }
   ],
   "source": [
    "data"
   ]
  },
  {
   "cell_type": "code",
   "execution_count": 1,
   "id": "25554d7c",
   "metadata": {},
   "outputs": [],
   "source": [
    "a =  ['1', '지금봐도대단']"
   ]
  },
  {
   "cell_type": "code",
   "execution_count": 6,
   "id": "bc027bb7",
   "metadata": {},
   "outputs": [],
   "source": [
    "data = a[1]"
   ]
  },
  {
   "cell_type": "code",
   "execution_count": 7,
   "id": "91ceee8e",
   "metadata": {},
   "outputs": [
    {
     "data": {
      "text/plain": [
       "'지금봐도대단'"
      ]
     },
     "execution_count": 7,
     "metadata": {},
     "output_type": "execute_result"
    }
   ],
   "source": [
    "data"
   ]
  },
  {
   "cell_type": "code",
   "execution_count": null,
   "id": "17156546",
   "metadata": {},
   "outputs": [],
   "source": []
  },
  {
   "cell_type": "code",
   "execution_count": null,
   "id": "b052e527",
   "metadata": {},
   "outputs": [],
   "source": []
  },
  {
   "cell_type": "code",
   "execution_count": 12,
   "id": "f9edb78a",
   "metadata": {},
   "outputs": [],
   "source": [
    "input_file = pd.read_csv(\"./data/train.txt\", delimiter='\\t')"
   ]
  },
  {
   "cell_type": "code",
   "execution_count": 17,
   "id": "f21b7c32",
   "metadata": {},
   "outputs": [],
   "source": [
    "def _read_file(cls, input_file, quotechar=None):\n",
    "    \"\"\"Reads a tab separated value file.\"\"\"\n",
    "    with open(input_file, \"r\", encoding=\"utf-8\") as f:\n",
    "        lines = []\n",
    "        for line in f:\n",
    "            lines.append(line.strip())\n",
    "        return lines"
   ]
  },
  {
   "cell_type": "code",
   "execution_count": 21,
   "id": "cf5596d7",
   "metadata": {},
   "outputs": [],
   "source": [
    "def _create_examples(self, lines, set_type):\n",
    "    \"\"\"Creates examples for the training and dev sets.\"\"\"\n",
    "    examples = []\n",
    "    for (i, line) in enumerate(lines[1:]):\n",
    "        line = line.split('\\t')\n",
    "        guid = \"%s-%s\" % (set_type, i)\n",
    "        text_a = line[1]\n",
    "        label = int(line[0])\n",
    "        if i % 1000 == 0:\n",
    "            logger.info(line)\n",
    "        examples.append(InputExample(guid=guid, text_a=text_a, label=label))\n",
    "    return examples"
   ]
  },
  {
   "cell_type": "code",
   "execution_count": null,
   "id": "89bc5573",
   "metadata": {},
   "outputs": [],
   "source": []
  }
 ],
 "metadata": {
  "kernelspec": {
   "display_name": "Python 3 (ipykernel)",
   "language": "python",
   "name": "python3"
  },
  "language_info": {
   "codemirror_mode": {
    "name": "ipython",
    "version": 3
   },
   "file_extension": ".py",
   "mimetype": "text/x-python",
   "name": "python",
   "nbconvert_exporter": "python",
   "pygments_lexer": "ipython3",
   "version": "3.8.12"
  }
 },
 "nbformat": 4,
 "nbformat_minor": 5
}
